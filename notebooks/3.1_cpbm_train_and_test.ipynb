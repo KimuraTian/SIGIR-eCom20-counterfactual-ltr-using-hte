{
 "cells": [
  {
   "cell_type": "code",
   "execution_count": 1,
   "metadata": {},
   "outputs": [],
   "source": [
    "import numpy as np\n",
    "import pandas as pd\n",
    "from pathlib import Path\n",
    "import matplotlib.pyplot as plt\n",
    "import seaborn as sns\n",
    "import pickle\n",
    "import tensorflow as tf\n",
    "\n",
    "import local_pkg_path\n",
    "import counterfactual_evaluation as cfeval\n",
    "from counterfactual_evaluation.propensity_estimators import ContextualPositionBasedModel"
   ]
  },
  {
   "cell_type": "markdown",
   "metadata": {},
   "source": [
    "Read train and test data"
   ]
  },
  {
   "cell_type": "code",
   "execution_count": 2,
   "metadata": {},
   "outputs": [],
   "source": [
    "fold = 'Fold1'"
   ]
  },
  {
   "cell_type": "code",
   "execution_count": 3,
   "metadata": {},
   "outputs": [],
   "source": [
    "sim_exp_train_vali_rankings = pd.read_csv(f'../build/simulation/{fold}/sim_exp_train_vali_rankings.csv')\n",
    "nqids = sim_exp_train_vali_rankings['qid'].nunique()\n",
    "unique_qids = sim_exp_train_vali_rankings['qid'].unique()"
   ]
  },
  {
   "cell_type": "code",
   "execution_count": 4,
   "metadata": {},
   "outputs": [],
   "source": [
    "propensity_test_features = pd.read_csv(f'../build/simulation/{fold}/examination_test.csv')\n",
    "propensity_test_features['rank'] = propensity_test_features.groupby('qid').cumcount()"
   ]
  },
  {
   "cell_type": "code",
   "execution_count": 5,
   "metadata": {},
   "outputs": [],
   "source": [
    "ltr_test_features = pd.read_csv(f'../build/simulation/{fold}/examination_features.csv')"
   ]
  },
  {
   "cell_type": "code",
   "execution_count": 6,
   "metadata": {},
   "outputs": [
    {
     "name": "stdout",
     "output_type": "stream",
     "text": [
      "Loading examination feature columns\n"
     ]
    }
   ],
   "source": [
    "with open(f'../build/simulation/{fold}/examination_fc_names.pkl', 'rb') as f:\n",
    "    print(f'Loading examination feature columns')\n",
    "    examination_fc = pickle.load(f)"
   ]
  },
  {
   "cell_type": "code",
   "execution_count": 7,
   "metadata": {},
   "outputs": [
    {
     "data": {
      "text/plain": [
       "array(['53', '54', '63', '99', '103', '106', '108', '126', '129', '133'],\n",
       "      dtype='<U3')"
      ]
     },
     "execution_count": 7,
     "metadata": {},
     "output_type": "execute_result"
    }
   ],
   "source": [
    "examination_fc"
   ]
  },
  {
   "cell_type": "code",
   "execution_count": 8,
   "metadata": {},
   "outputs": [
    {
     "data": {
      "text/html": [
       "<div>\n",
       "<style scoped>\n",
       "    .dataframe tbody tr th:only-of-type {\n",
       "        vertical-align: middle;\n",
       "    }\n",
       "\n",
       "    .dataframe tbody tr th {\n",
       "        vertical-align: top;\n",
       "    }\n",
       "\n",
       "    .dataframe thead th {\n",
       "        text-align: right;\n",
       "    }\n",
       "</style>\n",
       "<table border=\"1\" class=\"dataframe\">\n",
       "  <thead>\n",
       "    <tr style=\"text-align: right;\">\n",
       "      <th></th>\n",
       "      <th>qid</th>\n",
       "      <th>y</th>\n",
       "      <th>53</th>\n",
       "      <th>54</th>\n",
       "      <th>63</th>\n",
       "      <th>99</th>\n",
       "      <th>103</th>\n",
       "      <th>106</th>\n",
       "      <th>108</th>\n",
       "      <th>126</th>\n",
       "      <th>129</th>\n",
       "      <th>133</th>\n",
       "      <th>rank</th>\n",
       "    </tr>\n",
       "  </thead>\n",
       "  <tbody>\n",
       "    <tr>\n",
       "      <th>0</th>\n",
       "      <td>1</td>\n",
       "      <td>1.0</td>\n",
       "      <td>-0.471854</td>\n",
       "      <td>-0.242790</td>\n",
       "      <td>-0.672084</td>\n",
       "      <td>0.607835</td>\n",
       "      <td>-0.814787</td>\n",
       "      <td>3.742025</td>\n",
       "      <td>-0.740711</td>\n",
       "      <td>-0.140762</td>\n",
       "      <td>-0.822696</td>\n",
       "      <td>-0.036124</td>\n",
       "      <td>0</td>\n",
       "    </tr>\n",
       "    <tr>\n",
       "      <th>1</th>\n",
       "      <td>1</td>\n",
       "      <td>1.0</td>\n",
       "      <td>-0.471854</td>\n",
       "      <td>0.188449</td>\n",
       "      <td>-0.184864</td>\n",
       "      <td>0.607835</td>\n",
       "      <td>0.492574</td>\n",
       "      <td>-0.373532</td>\n",
       "      <td>0.197622</td>\n",
       "      <td>0.863501</td>\n",
       "      <td>1.539698</td>\n",
       "      <td>-0.036124</td>\n",
       "      <td>1</td>\n",
       "    </tr>\n",
       "    <tr>\n",
       "      <th>2</th>\n",
       "      <td>1</td>\n",
       "      <td>1.0</td>\n",
       "      <td>-0.471854</td>\n",
       "      <td>-0.467668</td>\n",
       "      <td>-0.672084</td>\n",
       "      <td>0.607835</td>\n",
       "      <td>-0.814787</td>\n",
       "      <td>-0.373532</td>\n",
       "      <td>-0.740711</td>\n",
       "      <td>2.096005</td>\n",
       "      <td>-0.614930</td>\n",
       "      <td>-0.036124</td>\n",
       "      <td>2</td>\n",
       "    </tr>\n",
       "    <tr>\n",
       "      <th>3</th>\n",
       "      <td>1</td>\n",
       "      <td>0.0</td>\n",
       "      <td>-0.471854</td>\n",
       "      <td>-0.330532</td>\n",
       "      <td>-0.672084</td>\n",
       "      <td>0.607835</td>\n",
       "      <td>-0.814787</td>\n",
       "      <td>-0.373532</td>\n",
       "      <td>-0.740711</td>\n",
       "      <td>0.498314</td>\n",
       "      <td>-0.953782</td>\n",
       "      <td>-0.036124</td>\n",
       "      <td>3</td>\n",
       "    </tr>\n",
       "    <tr>\n",
       "      <th>4</th>\n",
       "      <td>1</td>\n",
       "      <td>0.0</td>\n",
       "      <td>-0.471854</td>\n",
       "      <td>-0.247741</td>\n",
       "      <td>-0.672084</td>\n",
       "      <td>0.607835</td>\n",
       "      <td>-0.814787</td>\n",
       "      <td>-0.373532</td>\n",
       "      <td>-0.740711</td>\n",
       "      <td>0.589611</td>\n",
       "      <td>-0.895698</td>\n",
       "      <td>-0.036124</td>\n",
       "      <td>4</td>\n",
       "    </tr>\n",
       "  </tbody>\n",
       "</table>\n",
       "</div>"
      ],
      "text/plain": [
       "   qid    y        53        54        63        99       103       106  \\\n",
       "0    1  1.0 -0.471854 -0.242790 -0.672084  0.607835 -0.814787  3.742025   \n",
       "1    1  1.0 -0.471854  0.188449 -0.184864  0.607835  0.492574 -0.373532   \n",
       "2    1  1.0 -0.471854 -0.467668 -0.672084  0.607835 -0.814787 -0.373532   \n",
       "3    1  0.0 -0.471854 -0.330532 -0.672084  0.607835 -0.814787 -0.373532   \n",
       "4    1  0.0 -0.471854 -0.247741 -0.672084  0.607835 -0.814787 -0.373532   \n",
       "\n",
       "        108       126       129       133  rank  \n",
       "0 -0.740711 -0.140762 -0.822696 -0.036124     0  \n",
       "1  0.197622  0.863501  1.539698 -0.036124     1  \n",
       "2 -0.740711  2.096005 -0.614930 -0.036124     2  \n",
       "3 -0.740711  0.498314 -0.953782 -0.036124     3  \n",
       "4 -0.740711  0.589611 -0.895698 -0.036124     4  "
      ]
     },
     "execution_count": 8,
     "metadata": {},
     "output_type": "execute_result"
    }
   ],
   "source": [
    "propensity_test_features.head()"
   ]
  },
  {
   "cell_type": "code",
   "execution_count": 9,
   "metadata": {},
   "outputs": [
    {
     "data": {
      "text/html": [
       "<div>\n",
       "<style scoped>\n",
       "    .dataframe tbody tr th:only-of-type {\n",
       "        vertical-align: middle;\n",
       "    }\n",
       "\n",
       "    .dataframe tbody tr th {\n",
       "        vertical-align: top;\n",
       "    }\n",
       "\n",
       "    .dataframe thead th {\n",
       "        text-align: right;\n",
       "    }\n",
       "</style>\n",
       "<table border=\"1\" class=\"dataframe\">\n",
       "  <thead>\n",
       "    <tr style=\"text-align: right;\">\n",
       "      <th></th>\n",
       "      <th>partition</th>\n",
       "      <th>53</th>\n",
       "      <th>54</th>\n",
       "      <th>63</th>\n",
       "      <th>99</th>\n",
       "      <th>103</th>\n",
       "      <th>106</th>\n",
       "      <th>108</th>\n",
       "      <th>126</th>\n",
       "      <th>129</th>\n",
       "      <th>133</th>\n",
       "      <th>qd_id</th>\n",
       "    </tr>\n",
       "  </thead>\n",
       "  <tbody>\n",
       "    <tr>\n",
       "      <th>0</th>\n",
       "      <td>train</td>\n",
       "      <td>1.976927</td>\n",
       "      <td>0.453423</td>\n",
       "      <td>1.764048</td>\n",
       "      <td>0.607835</td>\n",
       "      <td>1.511765</td>\n",
       "      <td>-0.373532</td>\n",
       "      <td>1.048441</td>\n",
       "      <td>-0.460300</td>\n",
       "      <td>-0.809199</td>\n",
       "      <td>-0.029974</td>\n",
       "      <td>0</td>\n",
       "    </tr>\n",
       "    <tr>\n",
       "      <th>1</th>\n",
       "      <td>train</td>\n",
       "      <td>1.364728</td>\n",
       "      <td>1.090312</td>\n",
       "      <td>1.155011</td>\n",
       "      <td>0.607835</td>\n",
       "      <td>1.511765</td>\n",
       "      <td>1.802201</td>\n",
       "      <td>0.800594</td>\n",
       "      <td>0.178776</td>\n",
       "      <td>-0.705149</td>\n",
       "      <td>-0.036124</td>\n",
       "      <td>1</td>\n",
       "    </tr>\n",
       "    <tr>\n",
       "      <th>2</th>\n",
       "      <td>train</td>\n",
       "      <td>1.364728</td>\n",
       "      <td>1.103194</td>\n",
       "      <td>1.155011</td>\n",
       "      <td>0.607835</td>\n",
       "      <td>1.511765</td>\n",
       "      <td>-0.373532</td>\n",
       "      <td>0.800594</td>\n",
       "      <td>0.133128</td>\n",
       "      <td>-0.602185</td>\n",
       "      <td>-0.036124</td>\n",
       "      <td>2</td>\n",
       "    </tr>\n",
       "    <tr>\n",
       "      <th>3</th>\n",
       "      <td>train</td>\n",
       "      <td>1.627095</td>\n",
       "      <td>0.574641</td>\n",
       "      <td>1.416023</td>\n",
       "      <td>0.607835</td>\n",
       "      <td>1.511765</td>\n",
       "      <td>2.971950</td>\n",
       "      <td>0.915295</td>\n",
       "      <td>0.087480</td>\n",
       "      <td>-0.033838</td>\n",
       "      <td>-0.036124</td>\n",
       "      <td>3</td>\n",
       "    </tr>\n",
       "    <tr>\n",
       "      <th>4</th>\n",
       "      <td>train</td>\n",
       "      <td>1.160662</td>\n",
       "      <td>0.128851</td>\n",
       "      <td>0.951999</td>\n",
       "      <td>0.607835</td>\n",
       "      <td>1.511765</td>\n",
       "      <td>3.023082</td>\n",
       "      <td>0.700753</td>\n",
       "      <td>0.270073</td>\n",
       "      <td>-0.008724</td>\n",
       "      <td>-0.036124</td>\n",
       "      <td>4</td>\n",
       "    </tr>\n",
       "  </tbody>\n",
       "</table>\n",
       "</div>"
      ],
      "text/plain": [
       "  partition        53        54        63        99       103       106  \\\n",
       "0     train  1.976927  0.453423  1.764048  0.607835  1.511765 -0.373532   \n",
       "1     train  1.364728  1.090312  1.155011  0.607835  1.511765  1.802201   \n",
       "2     train  1.364728  1.103194  1.155011  0.607835  1.511765 -0.373532   \n",
       "3     train  1.627095  0.574641  1.416023  0.607835  1.511765  2.971950   \n",
       "4     train  1.160662  0.128851  0.951999  0.607835  1.511765  3.023082   \n",
       "\n",
       "        108       126       129       133  qd_id  \n",
       "0  1.048441 -0.460300 -0.809199 -0.029974      0  \n",
       "1  0.800594  0.178776 -0.705149 -0.036124      1  \n",
       "2  0.800594  0.133128 -0.602185 -0.036124      2  \n",
       "3  0.915295  0.087480 -0.033838 -0.036124      3  \n",
       "4  0.700753  0.270073 -0.008724 -0.036124      4  "
      ]
     },
     "execution_count": 9,
     "metadata": {},
     "output_type": "execute_result"
    }
   ],
   "source": [
    "ltr_test_features.head()"
   ]
  },
  {
   "cell_type": "code",
   "execution_count": 10,
   "metadata": {},
   "outputs": [],
   "source": [
    "propensity_test_features['rank'] = propensity_test_features.groupby('qid').cumcount()"
   ]
  },
  {
   "cell_type": "code",
   "execution_count": 11,
   "metadata": {},
   "outputs": [],
   "source": [
    "def train_and_test(graph, train_features, pos_labels, neg_labels, test_features, model_dir, \n",
    "                   epochs=500, nfeatures=10, nranks=10, examination_nhidden_layers=10, relevance_nhidden_layers=10):\n",
    "    with tf.Session(graph=graph) as sess:\n",
    "        model = ContextualPositionBasedModel(nfeatures, examination_nhidden_layers, relevance_nhidden_layers, nranks, tf.train.AdamOptimizer(learning_rate=0.05))\n",
    "        saver = tf.compat.v1.train.Saver(\n",
    "            tf.compat.v1.global_variables(), \n",
    "            pad_step_number=True, \n",
    "            keep_checkpoint_every_n_hours=1.0)\n",
    "        sess.run(tf.compat.v1.global_variables_initializer())\n",
    "        # train\n",
    "        for epoch in range(epochs):\n",
    "            train_loss, _ = sess.run([model.loss, model.train_op],\n",
    "                                     feed_dict={model.features: train_features, model.y_pos: pos_labels, model.y_neg: neg_labels})\n",
    "            if epoch % 10 == 0:\n",
    "                tf.compat.v1.logging.info(f'Epoch: {epoch}; Loss: {train_loss}')\n",
    "                saver.save(sess, f'{model_dir}/model.ckpt', global_step=tf.compat.v1.train.get_or_create_global_step())\n",
    "        # test\n",
    "        saver.restore(sess, tf.compat.v1.train.latest_checkpoint(model_dir))\n",
    "        test_results = []\n",
    "        for test_feature in test_features:\n",
    "            propensity_normed, click_probabilities = sess.run([model.norm_p_logits, model.logits], feed_dict={model.features: test_feature})\n",
    "            pos_1_k, pos_k_1 = click_probabilities[:, 0, :], click_probabilities[:, :, 0]\n",
    "            test_results.append([pd.DataFrame(propensity_normed[:, 1:]), pd.DataFrame(pos_1_k), pd.DataFrame(pos_k_1)])\n",
    "        return test_results"
   ]
  },
  {
   "cell_type": "code",
   "execution_count": 12,
   "metadata": {},
   "outputs": [],
   "source": [
    "test_features = [propensity_test_features[examination_fc].values, ltr_test_features[examination_fc].values]"
   ]
  },
  {
   "cell_type": "markdown",
   "metadata": {},
   "source": [
    "Create model dir"
   ]
  },
  {
   "cell_type": "code",
   "execution_count": 13,
   "metadata": {},
   "outputs": [],
   "source": [
    "if not Path(f'../build/simulation/{fold}/cpbm_models').exists():\n",
    "    Path(f'../build/simulation/{fold}/cpbm_models').mkdir(parents=True)"
   ]
  },
  {
   "cell_type": "code",
   "execution_count": null,
   "metadata": {
    "scrolled": false
   },
   "outputs": [],
   "source": [
    "test_propensity_results = []\n",
    "test_ltr_results = []\n",
    "for avg_clicks in [5, 10, 25, 50]:\n",
    "    for nq in [nqids // i for i in [100, 10, 2, 1]]:\n",
    "        g = tf.Graph()\n",
    "        print(f'Loading train clicks with {avg_clicks} sessions, {nq} queries')\n",
    "        train_click = pd.read_csv(f'../build/simulation/{fold}/sim_exp_swap_cpbm_train_clicks_{avg_clicks}_{nq}.csv')\n",
    "        train_click['intervention_rank_idx'] = train_click['intervention_rank_idx'].astype(int)\n",
    "        # preprocess input features and labels\n",
    "        print('preprocess input features and labels')\n",
    "        nclicks = train_click['click_idx'].max() + 1\n",
    "        max_rank = 10\n",
    "        pos_labels = np.zeros((nclicks, max_rank, max_rank))\n",
    "        neg_labels = np.zeros((nclicks, max_rank, max_rank))\n",
    "        pos_labels[train_click['click_idx'].values, train_click['rank_idx'].values, train_click['intervention_rank_idx'].values] = train_click['inverse_frequency_weighted_pos_click']\n",
    "        neg_labels[train_click['click_idx'].values, train_click['rank_idx'].values, train_click['intervention_rank_idx'].values] = train_click['inverse_frequency_weighted_neg_click']\n",
    "        train_click_features = train_click.drop_duplicates(subset=['click_idx']).sort_values('click_idx').merge(ltr_test_features, how='left', on=['partition', 'qd_id'])\n",
    "        train_features = train_click_features[examination_fc].values\n",
    "        model_dir = f'../build/simulation/{fold}/cpbm_models/cpbm_{avg_clicks}_{nq}'\n",
    "        \n",
    "        # train and test\n",
    "        print(f'train and test nsess: {avg_clicks}, nqueries: {nq}')\n",
    "        \n",
    "        test_sets_res = train_and_test(g, train_features, pos_labels, neg_labels, test_features, model_dir, epochs=1000)\n",
    "        # propensity results\n",
    "        _, test_1_k, test_k_1 = test_sets_res[0]\n",
    "        test_meta = propensity_test_features[['y', 'qid', 'rank']].copy()\n",
    "        test_meta[[x for x in range(1, 11)]] = test_1_k\n",
    "        test_meta['avg_clicks'] = avg_clicks\n",
    "        test_meta['nqueries'] = nq\n",
    "        test_1_k = test_meta.melt(id_vars=['qid', 'y', 'rank', 'avg_clicks', 'nqueries'], value_vars=[x for x in range(2, 11)], \n",
    "                                  var_name='exam_position', value_name='pair_1_k')\n",
    "        test_meta = propensity_test_features[['y', 'qid', 'rank']].copy()\n",
    "        test_meta[[x for x in range(1, 11)]] = test_k_1\n",
    "        test_meta['avg_clicks'] = avg_clicks\n",
    "        test_meta['nqueries'] = nq\n",
    "        test_k_1 = test_meta.melt(id_vars=['qid', 'y', 'rank', 'avg_clicks', 'nqueries'], value_vars=[x for x in range(2, 11)], \n",
    "                                  var_name='exam_position', value_name='pair_k_1')\n",
    "        merged = test_1_k.merge(test_k_1)\n",
    "        test_propensity_results.append(merged)\n",
    "        \n",
    "        # save test results\n",
    "        print('saving test results')\n",
    "        test_propensity_normed, _, _ = test_sets_res[1]\n",
    "        test_meta = ltr_test_features[['partition', 'qd_id']].copy()\n",
    "        test_meta[[str(x) for x in range(2, 11)]] = test_propensity_normed\n",
    "        test_res = test_meta.melt(id_vars=['partition', 'qd_id'], value_vars=[str(x) for x in range(2, 11)], \n",
    "                                  var_name='exam_position', value_name='cpbm_propensity_ratio_hat')\n",
    "        test_res['avg_clicks'] = avg_clicks\n",
    "        test_res['nqueries'] = nq\n",
    "        test_ltr_results.append(test_res)\n",
    "test_propensity_results = pd.concat(test_propensity_results, ignore_index=True)\n",
    "test_ltr_results = pd.concat(test_ltr_results, ignore_index=True)"
   ]
  },
  {
   "cell_type": "code",
   "execution_count": 16,
   "metadata": {},
   "outputs": [
    {
     "data": {
      "text/html": [
       "<div>\n",
       "<style scoped>\n",
       "    .dataframe tbody tr th:only-of-type {\n",
       "        vertical-align: middle;\n",
       "    }\n",
       "\n",
       "    .dataframe tbody tr th {\n",
       "        vertical-align: top;\n",
       "    }\n",
       "\n",
       "    .dataframe thead th {\n",
       "        text-align: right;\n",
       "    }\n",
       "</style>\n",
       "<table border=\"1\" class=\"dataframe\">\n",
       "  <thead>\n",
       "    <tr style=\"text-align: right;\">\n",
       "      <th></th>\n",
       "      <th>partition</th>\n",
       "      <th>qd_id</th>\n",
       "      <th>exam_position</th>\n",
       "      <th>cpbm_propensity_ratio_hat</th>\n",
       "      <th>avg_clicks</th>\n",
       "      <th>nqueries</th>\n",
       "    </tr>\n",
       "  </thead>\n",
       "  <tbody>\n",
       "    <tr>\n",
       "      <th>0</th>\n",
       "      <td>train</td>\n",
       "      <td>0</td>\n",
       "      <td>2</td>\n",
       "      <td>0.324793</td>\n",
       "      <td>5</td>\n",
       "      <td>3</td>\n",
       "    </tr>\n",
       "    <tr>\n",
       "      <th>1</th>\n",
       "      <td>train</td>\n",
       "      <td>1</td>\n",
       "      <td>2</td>\n",
       "      <td>0.338517</td>\n",
       "      <td>5</td>\n",
       "      <td>3</td>\n",
       "    </tr>\n",
       "    <tr>\n",
       "      <th>2</th>\n",
       "      <td>train</td>\n",
       "      <td>2</td>\n",
       "      <td>2</td>\n",
       "      <td>0.325198</td>\n",
       "      <td>5</td>\n",
       "      <td>3</td>\n",
       "    </tr>\n",
       "    <tr>\n",
       "      <th>3</th>\n",
       "      <td>train</td>\n",
       "      <td>3</td>\n",
       "      <td>2</td>\n",
       "      <td>0.360588</td>\n",
       "      <td>5</td>\n",
       "      <td>3</td>\n",
       "    </tr>\n",
       "    <tr>\n",
       "      <th>4</th>\n",
       "      <td>train</td>\n",
       "      <td>4</td>\n",
       "      <td>2</td>\n",
       "      <td>0.392882</td>\n",
       "      <td>5</td>\n",
       "      <td>3</td>\n",
       "    </tr>\n",
       "  </tbody>\n",
       "</table>\n",
       "</div>"
      ],
      "text/plain": [
       "  partition  qd_id exam_position  cpbm_propensity_ratio_hat  avg_clicks  \\\n",
       "0     train      0             2                   0.324793           5   \n",
       "1     train      1             2                   0.338517           5   \n",
       "2     train      2             2                   0.325198           5   \n",
       "3     train      3             2                   0.360588           5   \n",
       "4     train      4             2                   0.392882           5   \n",
       "\n",
       "   nqueries  \n",
       "0         3  \n",
       "1         3  \n",
       "2         3  \n",
       "3         3  \n",
       "4         3  "
      ]
     },
     "execution_count": 16,
     "metadata": {},
     "output_type": "execute_result"
    }
   ],
   "source": [
    "test_ltr_results.head()"
   ]
  },
  {
   "cell_type": "code",
   "execution_count": 19,
   "metadata": {},
   "outputs": [
    {
     "data": {
      "text/html": [
       "<div>\n",
       "<style scoped>\n",
       "    .dataframe tbody tr th:only-of-type {\n",
       "        vertical-align: middle;\n",
       "    }\n",
       "\n",
       "    .dataframe tbody tr th {\n",
       "        vertical-align: top;\n",
       "    }\n",
       "\n",
       "    .dataframe thead th {\n",
       "        text-align: right;\n",
       "    }\n",
       "</style>\n",
       "<table border=\"1\" class=\"dataframe\">\n",
       "  <thead>\n",
       "    <tr style=\"text-align: right;\">\n",
       "      <th></th>\n",
       "      <th>qid</th>\n",
       "      <th>y</th>\n",
       "      <th>rank</th>\n",
       "      <th>avg_clicks</th>\n",
       "      <th>nqueries</th>\n",
       "      <th>exam_position</th>\n",
       "      <th>pair_1_k</th>\n",
       "      <th>pair_k_1</th>\n",
       "    </tr>\n",
       "  </thead>\n",
       "  <tbody>\n",
       "    <tr>\n",
       "      <th>0</th>\n",
       "      <td>1</td>\n",
       "      <td>1.0</td>\n",
       "      <td>0</td>\n",
       "      <td>5</td>\n",
       "      <td>3</td>\n",
       "      <td>2</td>\n",
       "      <td>0.742119</td>\n",
       "      <td>0.425353</td>\n",
       "    </tr>\n",
       "    <tr>\n",
       "      <th>1</th>\n",
       "      <td>1</td>\n",
       "      <td>1.0</td>\n",
       "      <td>1</td>\n",
       "      <td>5</td>\n",
       "      <td>3</td>\n",
       "      <td>2</td>\n",
       "      <td>0.999298</td>\n",
       "      <td>0.349601</td>\n",
       "    </tr>\n",
       "    <tr>\n",
       "      <th>2</th>\n",
       "      <td>1</td>\n",
       "      <td>1.0</td>\n",
       "      <td>2</td>\n",
       "      <td>5</td>\n",
       "      <td>3</td>\n",
       "      <td>2</td>\n",
       "      <td>0.947938</td>\n",
       "      <td>0.403232</td>\n",
       "    </tr>\n",
       "    <tr>\n",
       "      <th>3</th>\n",
       "      <td>1</td>\n",
       "      <td>0.0</td>\n",
       "      <td>3</td>\n",
       "      <td>5</td>\n",
       "      <td>3</td>\n",
       "      <td>2</td>\n",
       "      <td>0.971236</td>\n",
       "      <td>0.395866</td>\n",
       "    </tr>\n",
       "    <tr>\n",
       "      <th>4</th>\n",
       "      <td>1</td>\n",
       "      <td>0.0</td>\n",
       "      <td>4</td>\n",
       "      <td>5</td>\n",
       "      <td>3</td>\n",
       "      <td>2</td>\n",
       "      <td>0.974597</td>\n",
       "      <td>0.394374</td>\n",
       "    </tr>\n",
       "  </tbody>\n",
       "</table>\n",
       "</div>"
      ],
      "text/plain": [
       "   qid    y  rank  avg_clicks  nqueries exam_position  pair_1_k  pair_k_1\n",
       "0    1  1.0     0           5         3             2  0.742119  0.425353\n",
       "1    1  1.0     1           5         3             2  0.999298  0.349601\n",
       "2    1  1.0     2           5         3             2  0.947938  0.403232\n",
       "3    1  0.0     3           5         3             2  0.971236  0.395866\n",
       "4    1  0.0     4           5         3             2  0.974597  0.394374"
      ]
     },
     "execution_count": 19,
     "metadata": {},
     "output_type": "execute_result"
    }
   ],
   "source": [
    "test_propensity_results.head()"
   ]
  },
  {
   "cell_type": "code",
   "execution_count": 20,
   "metadata": {},
   "outputs": [],
   "source": [
    "test_propensity_results['cpbm_tau'] = test_propensity_results['pair_1_k'] - test_propensity_results['pair_k_1']"
   ]
  },
  {
   "cell_type": "code",
   "execution_count": 21,
   "metadata": {},
   "outputs": [],
   "source": [
    "test_propensity_results.to_csv(f'../build/simulation/{fold}/sim_exp_swap_cpbm_propensity_test_results.csv', index=False)"
   ]
  },
  {
   "cell_type": "code",
   "execution_count": 22,
   "metadata": {},
   "outputs": [],
   "source": [
    "test_ltr_results['inverse_cpbm_propensity_ratio_hat'] = 1 / test_ltr_results['cpbm_propensity_ratio_hat']"
   ]
  },
  {
   "cell_type": "code",
   "execution_count": 23,
   "metadata": {},
   "outputs": [],
   "source": [
    "test_ltr_results['inverse_cpbm_propensity_ratio_hat'] = test_ltr_results['inverse_cpbm_propensity_ratio_hat'].replace(np.inf, 1e6)"
   ]
  },
  {
   "cell_type": "code",
   "execution_count": 24,
   "metadata": {},
   "outputs": [],
   "source": [
    "test_ltr_results.to_csv(f'../build/simulation/{fold}/sim_exp_swap_cpbm_ltr_test_results.csv', index=False)"
   ]
  },
  {
   "cell_type": "markdown",
   "metadata": {},
   "source": [
    "### Clipped IPS"
   ]
  },
  {
   "cell_type": "code",
   "execution_count": 25,
   "metadata": {},
   "outputs": [],
   "source": [
    "fold = 'Fold1'"
   ]
  },
  {
   "cell_type": "code",
   "execution_count": 26,
   "metadata": {},
   "outputs": [],
   "source": [
    "test_ltr_results = pd.read_csv(f'../build/simulation/{fold}/sim_exp_swap_cpbm_ltr_test_results.csv')"
   ]
  },
  {
   "cell_type": "code",
   "execution_count": 27,
   "metadata": {},
   "outputs": [
    {
     "data": {
      "text/html": [
       "<div>\n",
       "<style scoped>\n",
       "    .dataframe tbody tr th:only-of-type {\n",
       "        vertical-align: middle;\n",
       "    }\n",
       "\n",
       "    .dataframe tbody tr th {\n",
       "        vertical-align: top;\n",
       "    }\n",
       "\n",
       "    .dataframe thead th {\n",
       "        text-align: right;\n",
       "    }\n",
       "</style>\n",
       "<table border=\"1\" class=\"dataframe\">\n",
       "  <thead>\n",
       "    <tr style=\"text-align: right;\">\n",
       "      <th></th>\n",
       "      <th>partition</th>\n",
       "      <th>qd_id</th>\n",
       "      <th>exam_position</th>\n",
       "      <th>cpbm_propensity_ratio_hat</th>\n",
       "      <th>avg_clicks</th>\n",
       "      <th>nqueries</th>\n",
       "      <th>inverse_cpbm_propensity_ratio_hat</th>\n",
       "    </tr>\n",
       "  </thead>\n",
       "  <tbody>\n",
       "    <tr>\n",
       "      <th>0</th>\n",
       "      <td>train</td>\n",
       "      <td>0</td>\n",
       "      <td>2</td>\n",
       "      <td>0.324793</td>\n",
       "      <td>5</td>\n",
       "      <td>3</td>\n",
       "      <td>3.078880</td>\n",
       "    </tr>\n",
       "    <tr>\n",
       "      <th>1</th>\n",
       "      <td>train</td>\n",
       "      <td>1</td>\n",
       "      <td>2</td>\n",
       "      <td>0.338517</td>\n",
       "      <td>5</td>\n",
       "      <td>3</td>\n",
       "      <td>2.954066</td>\n",
       "    </tr>\n",
       "    <tr>\n",
       "      <th>2</th>\n",
       "      <td>train</td>\n",
       "      <td>2</td>\n",
       "      <td>2</td>\n",
       "      <td>0.325198</td>\n",
       "      <td>5</td>\n",
       "      <td>3</td>\n",
       "      <td>3.075051</td>\n",
       "    </tr>\n",
       "    <tr>\n",
       "      <th>3</th>\n",
       "      <td>train</td>\n",
       "      <td>3</td>\n",
       "      <td>2</td>\n",
       "      <td>0.360588</td>\n",
       "      <td>5</td>\n",
       "      <td>3</td>\n",
       "      <td>2.773247</td>\n",
       "    </tr>\n",
       "    <tr>\n",
       "      <th>4</th>\n",
       "      <td>train</td>\n",
       "      <td>4</td>\n",
       "      <td>2</td>\n",
       "      <td>0.392882</td>\n",
       "      <td>5</td>\n",
       "      <td>3</td>\n",
       "      <td>2.545296</td>\n",
       "    </tr>\n",
       "  </tbody>\n",
       "</table>\n",
       "</div>"
      ],
      "text/plain": [
       "  partition  qd_id  exam_position  cpbm_propensity_ratio_hat  avg_clicks  \\\n",
       "0     train      0              2                   0.324793           5   \n",
       "1     train      1              2                   0.338517           5   \n",
       "2     train      2              2                   0.325198           5   \n",
       "3     train      3              2                   0.360588           5   \n",
       "4     train      4              2                   0.392882           5   \n",
       "\n",
       "   nqueries  inverse_cpbm_propensity_ratio_hat  \n",
       "0         3                           3.078880  \n",
       "1         3                           2.954066  \n",
       "2         3                           3.075051  \n",
       "3         3                           2.773247  \n",
       "4         3                           2.545296  "
      ]
     },
     "execution_count": 27,
     "metadata": {},
     "output_type": "execute_result"
    }
   ],
   "source": [
    "test_ltr_results.head()"
   ]
  },
  {
   "cell_type": "code",
   "execution_count": 28,
   "metadata": {},
   "outputs": [
    {
     "data": {
      "text/plain": [
       "count    547632.000000\n",
       "mean          0.453289\n",
       "std           0.280874\n",
       "min           0.000273\n",
       "25%           0.239423\n",
       "50%           0.446032\n",
       "75%           0.650167\n",
       "max           1.614855\n",
       "Name: cpbm_propensity_ratio_hat, dtype: float64"
      ]
     },
     "execution_count": 28,
     "metadata": {},
     "output_type": "execute_result"
    }
   ],
   "source": [
    "test_ltr_results['cpbm_propensity_ratio_hat'].describe()"
   ]
  },
  {
   "cell_type": "code",
   "execution_count": 29,
   "metadata": {},
   "outputs": [
    {
     "data": {
      "text/plain": [
       "count    547632.000000\n",
       "mean         46.705738\n",
       "std         274.679558\n",
       "min           0.619251\n",
       "25%           1.538066\n",
       "50%           2.241990\n",
       "75%           4.176707\n",
       "max        3659.505900\n",
       "Name: inverse_cpbm_propensity_ratio_hat, dtype: float64"
      ]
     },
     "execution_count": 29,
     "metadata": {},
     "output_type": "execute_result"
    }
   ],
   "source": [
    "test_ltr_results['inverse_cpbm_propensity_ratio_hat'].describe()"
   ]
  },
  {
   "cell_type": "code",
   "execution_count": 30,
   "metadata": {},
   "outputs": [],
   "source": [
    "threshold = 0.01"
   ]
  },
  {
   "cell_type": "code",
   "execution_count": 31,
   "metadata": {},
   "outputs": [
    {
     "data": {
      "text/plain": [
       "False    0.960088\n",
       "True     0.039912\n",
       "Name: inverse_cpbm_propensity_ratio_hat, dtype: float64"
      ]
     },
     "execution_count": 31,
     "metadata": {},
     "output_type": "execute_result"
    }
   ],
   "source": [
    "(test_ltr_results['inverse_cpbm_propensity_ratio_hat'] >= 1 / threshold).value_counts(normalize=True)"
   ]
  },
  {
   "cell_type": "code",
   "execution_count": 32,
   "metadata": {},
   "outputs": [
    {
     "data": {
      "text/plain": [
       "False    0.966956\n",
       "True     0.033044\n",
       "Name: inverse_cpbm_propensity_ratio_hat, dtype: float64"
      ]
     },
     "execution_count": 32,
     "metadata": {},
     "output_type": "execute_result"
    }
   ],
   "source": [
    "(test_ltr_results['inverse_cpbm_propensity_ratio_hat'] <= 1 / (1 - threshold)).value_counts(normalize=True)"
   ]
  },
  {
   "cell_type": "code",
   "execution_count": 33,
   "metadata": {},
   "outputs": [],
   "source": [
    "test_ltr_results.loc[(test_ltr_results['inverse_cpbm_propensity_ratio_hat'] >= 1 / threshold), 'inverse_cpbm_propensity_ratio_hat'] = 1 / threshold"
   ]
  },
  {
   "cell_type": "code",
   "execution_count": 34,
   "metadata": {},
   "outputs": [
    {
     "data": {
      "text/plain": [
       "count    547632.000000\n",
       "mean          9.068006\n",
       "std          21.393802\n",
       "min           0.619251\n",
       "25%           1.538066\n",
       "50%           2.241990\n",
       "75%           4.176707\n",
       "max         100.000000\n",
       "Name: inverse_cpbm_propensity_ratio_hat, dtype: float64"
      ]
     },
     "execution_count": 34,
     "metadata": {},
     "output_type": "execute_result"
    }
   ],
   "source": [
    "test_ltr_results['inverse_cpbm_propensity_ratio_hat'].describe()"
   ]
  },
  {
   "cell_type": "code",
   "execution_count": 35,
   "metadata": {},
   "outputs": [],
   "source": [
    "test_ltr_results.to_csv(f'../build/simulation/{fold}/sim_exp_swap_cpbm_clipped_ips_ltr_test_results.csv', index=False)"
   ]
  },
  {
   "cell_type": "code",
   "execution_count": null,
   "metadata": {},
   "outputs": [],
   "source": []
  }
 ],
 "metadata": {
  "kernelspec": {
   "display_name": "Python 3",
   "language": "python",
   "name": "python3"
  },
  "language_info": {
   "codemirror_mode": {
    "name": "ipython",
    "version": 3
   },
   "file_extension": ".py",
   "mimetype": "text/x-python",
   "name": "python",
   "nbconvert_exporter": "python",
   "pygments_lexer": "ipython3",
   "version": "3.7.4"
  }
 },
 "nbformat": 4,
 "nbformat_minor": 4
}
