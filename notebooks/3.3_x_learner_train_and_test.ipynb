{
 "cells": [
  {
   "cell_type": "code",
   "execution_count": 1,
   "metadata": {},
   "outputs": [
    {
     "name": "stderr",
     "output_type": "stream",
     "text": [
      "The sklearn.utils.testing module is  deprecated in version 0.22 and will be removed in version 0.24. The corresponding classes / functions should instead be imported from sklearn.utils. Anything that cannot be imported from sklearn.utils is now part of the private API.\n"
     ]
    }
   ],
   "source": [
    "import numpy as np\n",
    "import pandas as pd\n",
    "import pickle\n",
    "\n",
    "from xgboost import XGBRegressor\n",
    "from causalml.inference.meta import BaseXRegressor\n",
    "from causalml.dataset import synthetic_data"
   ]
  },
  {
   "cell_type": "markdown",
   "metadata": {},
   "source": [
    "Read train and test data"
   ]
  },
  {
   "cell_type": "code",
   "execution_count": 2,
   "metadata": {},
   "outputs": [],
   "source": [
    "fold = 'Fold3'"
   ]
  },
  {
   "cell_type": "markdown",
   "metadata": {},
   "source": [
    "Total number of queries"
   ]
  },
  {
   "cell_type": "code",
   "execution_count": 3,
   "metadata": {},
   "outputs": [],
   "source": [
    "sim_exp_train_vali_rankings = pd.read_csv(f'../build/simulation/{fold}/sim_exp_train_vali_rankings.csv')\n",
    "nqids = sim_exp_train_vali_rankings['qid'].nunique()\n",
    "unique_qids = sim_exp_train_vali_rankings['qid'].unique()"
   ]
  },
  {
   "cell_type": "markdown",
   "metadata": {},
   "source": [
    "Test Data for evaluations of propensity accuracy"
   ]
  },
  {
   "cell_type": "code",
   "execution_count": 4,
   "metadata": {},
   "outputs": [],
   "source": [
    "propensity_test_features = pd.read_csv(f'../build/simulation/{fold}/examination_test.csv')\n",
    "propensity_test_features['rank'] = propensity_test_features.groupby('qid').cumcount()"
   ]
  },
  {
   "cell_type": "markdown",
   "metadata": {},
   "source": [
    "Examination context feature for LTR"
   ]
  },
  {
   "cell_type": "code",
   "execution_count": 5,
   "metadata": {},
   "outputs": [],
   "source": [
    "ltr_test_features = pd.read_csv(f'../build/simulation/{fold}/examination_features.csv')"
   ]
  },
  {
   "cell_type": "markdown",
   "metadata": {},
   "source": [
    "Examination feature columns"
   ]
  },
  {
   "cell_type": "code",
   "execution_count": 6,
   "metadata": {},
   "outputs": [
    {
     "name": "stdout",
     "output_type": "stream",
     "text": [
      "Loading examination feature columns\n"
     ]
    }
   ],
   "source": [
    "with open(f'../build/simulation/{fold}/examination_fc_names.pkl', 'rb') as f:\n",
    "    print(f'Loading examination feature columns')\n",
    "    examination_fc = pickle.load(f)"
   ]
  },
  {
   "cell_type": "code",
   "execution_count": 7,
   "metadata": {},
   "outputs": [
    {
     "data": {
      "text/plain": [
       "array(['13', '38', '53', '63', '64', '88', '107', '126', '129', '133'],\n",
       "      dtype='<U3')"
      ]
     },
     "execution_count": 7,
     "metadata": {},
     "output_type": "execute_result"
    }
   ],
   "source": [
    "examination_fc"
   ]
  },
  {
   "cell_type": "code",
   "execution_count": 8,
   "metadata": {},
   "outputs": [
    {
     "data": {
      "text/html": [
       "<div>\n",
       "<style scoped>\n",
       "    .dataframe tbody tr th:only-of-type {\n",
       "        vertical-align: middle;\n",
       "    }\n",
       "\n",
       "    .dataframe tbody tr th {\n",
       "        vertical-align: top;\n",
       "    }\n",
       "\n",
       "    .dataframe thead th {\n",
       "        text-align: right;\n",
       "    }\n",
       "</style>\n",
       "<table border=\"1\" class=\"dataframe\">\n",
       "  <thead>\n",
       "    <tr style=\"text-align: right;\">\n",
       "      <th></th>\n",
       "      <th>qid</th>\n",
       "      <th>y</th>\n",
       "      <th>13</th>\n",
       "      <th>38</th>\n",
       "      <th>53</th>\n",
       "      <th>63</th>\n",
       "      <th>64</th>\n",
       "      <th>88</th>\n",
       "      <th>107</th>\n",
       "      <th>126</th>\n",
       "      <th>129</th>\n",
       "      <th>133</th>\n",
       "      <th>rank</th>\n",
       "    </tr>\n",
       "  </thead>\n",
       "  <tbody>\n",
       "    <tr>\n",
       "      <th>0</th>\n",
       "      <td>1</td>\n",
       "      <td>1.0</td>\n",
       "      <td>-1.051746</td>\n",
       "      <td>-0.804303</td>\n",
       "      <td>-0.537913</td>\n",
       "      <td>-0.734882</td>\n",
       "      <td>-0.837864</td>\n",
       "      <td>-0.738388</td>\n",
       "      <td>-1.217684</td>\n",
       "      <td>-0.819530</td>\n",
       "      <td>-0.112918</td>\n",
       "      <td>-0.015019</td>\n",
       "      <td>0</td>\n",
       "    </tr>\n",
       "    <tr>\n",
       "      <th>1</th>\n",
       "      <td>1</td>\n",
       "      <td>1.0</td>\n",
       "      <td>-0.501171</td>\n",
       "      <td>1.308280</td>\n",
       "      <td>1.787716</td>\n",
       "      <td>1.619355</td>\n",
       "      <td>2.332349</td>\n",
       "      <td>0.743675</td>\n",
       "      <td>-1.217684</td>\n",
       "      <td>-0.357546</td>\n",
       "      <td>-0.692904</td>\n",
       "      <td>-0.015019</td>\n",
       "      <td>1</td>\n",
       "    </tr>\n",
       "    <tr>\n",
       "      <th>2</th>\n",
       "      <td>1</td>\n",
       "      <td>1.0</td>\n",
       "      <td>0.599979</td>\n",
       "      <td>1.308280</td>\n",
       "      <td>0.857462</td>\n",
       "      <td>0.677657</td>\n",
       "      <td>0.430221</td>\n",
       "      <td>0.743675</td>\n",
       "      <td>-1.217684</td>\n",
       "      <td>1.574389</td>\n",
       "      <td>-0.670610</td>\n",
       "      <td>-0.015019</td>\n",
       "      <td>2</td>\n",
       "    </tr>\n",
       "    <tr>\n",
       "      <th>3</th>\n",
       "      <td>1</td>\n",
       "      <td>0.0</td>\n",
       "      <td>0.875267</td>\n",
       "      <td>-0.804303</td>\n",
       "      <td>-0.537913</td>\n",
       "      <td>-0.734882</td>\n",
       "      <td>-0.784275</td>\n",
       "      <td>-0.738388</td>\n",
       "      <td>-1.217684</td>\n",
       "      <td>0.608421</td>\n",
       "      <td>-0.696357</td>\n",
       "      <td>-0.015019</td>\n",
       "      <td>3</td>\n",
       "    </tr>\n",
       "    <tr>\n",
       "      <th>4</th>\n",
       "      <td>1</td>\n",
       "      <td>0.0</td>\n",
       "      <td>-1.051746</td>\n",
       "      <td>-0.804303</td>\n",
       "      <td>-0.537913</td>\n",
       "      <td>-0.734882</td>\n",
       "      <td>0.776053</td>\n",
       "      <td>-0.738388</td>\n",
       "      <td>-0.584129</td>\n",
       "      <td>-0.525540</td>\n",
       "      <td>-0.695462</td>\n",
       "      <td>-0.015019</td>\n",
       "      <td>4</td>\n",
       "    </tr>\n",
       "  </tbody>\n",
       "</table>\n",
       "</div>"
      ],
      "text/plain": [
       "   qid    y        13        38        53        63        64        88  \\\n",
       "0    1  1.0 -1.051746 -0.804303 -0.537913 -0.734882 -0.837864 -0.738388   \n",
       "1    1  1.0 -0.501171  1.308280  1.787716  1.619355  2.332349  0.743675   \n",
       "2    1  1.0  0.599979  1.308280  0.857462  0.677657  0.430221  0.743675   \n",
       "3    1  0.0  0.875267 -0.804303 -0.537913 -0.734882 -0.784275 -0.738388   \n",
       "4    1  0.0 -1.051746 -0.804303 -0.537913 -0.734882  0.776053 -0.738388   \n",
       "\n",
       "        107       126       129       133  rank  \n",
       "0 -1.217684 -0.819530 -0.112918 -0.015019     0  \n",
       "1 -1.217684 -0.357546 -0.692904 -0.015019     1  \n",
       "2 -1.217684  1.574389 -0.670610 -0.015019     2  \n",
       "3 -1.217684  0.608421 -0.696357 -0.015019     3  \n",
       "4 -0.584129 -0.525540 -0.695462 -0.015019     4  "
      ]
     },
     "execution_count": 8,
     "metadata": {},
     "output_type": "execute_result"
    }
   ],
   "source": [
    "propensity_test_features.head()"
   ]
  },
  {
   "cell_type": "code",
   "execution_count": 9,
   "metadata": {},
   "outputs": [
    {
     "data": {
      "text/html": [
       "<div>\n",
       "<style scoped>\n",
       "    .dataframe tbody tr th:only-of-type {\n",
       "        vertical-align: middle;\n",
       "    }\n",
       "\n",
       "    .dataframe tbody tr th {\n",
       "        vertical-align: top;\n",
       "    }\n",
       "\n",
       "    .dataframe thead th {\n",
       "        text-align: right;\n",
       "    }\n",
       "</style>\n",
       "<table border=\"1\" class=\"dataframe\">\n",
       "  <thead>\n",
       "    <tr style=\"text-align: right;\">\n",
       "      <th></th>\n",
       "      <th>partition</th>\n",
       "      <th>13</th>\n",
       "      <th>38</th>\n",
       "      <th>53</th>\n",
       "      <th>63</th>\n",
       "      <th>64</th>\n",
       "      <th>88</th>\n",
       "      <th>107</th>\n",
       "      <th>126</th>\n",
       "      <th>129</th>\n",
       "      <th>133</th>\n",
       "      <th>qd_id</th>\n",
       "    </tr>\n",
       "  </thead>\n",
       "  <tbody>\n",
       "    <tr>\n",
       "      <th>0</th>\n",
       "      <td>train</td>\n",
       "      <td>0.875267</td>\n",
       "      <td>0.251989</td>\n",
       "      <td>-0.537913</td>\n",
       "      <td>-0.092812</td>\n",
       "      <td>0.446275</td>\n",
       "      <td>0.041744</td>\n",
       "      <td>-0.371683</td>\n",
       "      <td>0.986409</td>\n",
       "      <td>-0.182869</td>\n",
       "      <td>-0.015019</td>\n",
       "      <td>0</td>\n",
       "    </tr>\n",
       "    <tr>\n",
       "      <th>1</th>\n",
       "      <td>train</td>\n",
       "      <td>0.599979</td>\n",
       "      <td>0.251989</td>\n",
       "      <td>-0.537913</td>\n",
       "      <td>-0.028612</td>\n",
       "      <td>0.619698</td>\n",
       "      <td>0.041744</td>\n",
       "      <td>0.022067</td>\n",
       "      <td>0.398429</td>\n",
       "      <td>-0.678922</td>\n",
       "      <td>-0.015019</td>\n",
       "      <td>1</td>\n",
       "    </tr>\n",
       "    <tr>\n",
       "      <th>2</th>\n",
       "      <td>train</td>\n",
       "      <td>1.976418</td>\n",
       "      <td>-0.804303</td>\n",
       "      <td>-0.537913</td>\n",
       "      <td>-0.734882</td>\n",
       "      <td>0.517947</td>\n",
       "      <td>-0.738388</td>\n",
       "      <td>-0.335721</td>\n",
       "      <td>1.322397</td>\n",
       "      <td>0.206786</td>\n",
       "      <td>-0.015019</td>\n",
       "      <td>2</td>\n",
       "    </tr>\n",
       "    <tr>\n",
       "      <th>3</th>\n",
       "      <td>train</td>\n",
       "      <td>-0.501171</td>\n",
       "      <td>0.251989</td>\n",
       "      <td>-0.537913</td>\n",
       "      <td>0.442229</td>\n",
       "      <td>0.692588</td>\n",
       "      <td>0.041744</td>\n",
       "      <td>-0.174736</td>\n",
       "      <td>-0.693534</td>\n",
       "      <td>2.066825</td>\n",
       "      <td>0.000475</td>\n",
       "      <td>3</td>\n",
       "    </tr>\n",
       "    <tr>\n",
       "      <th>4</th>\n",
       "      <td>train</td>\n",
       "      <td>-1.051746</td>\n",
       "      <td>0.251989</td>\n",
       "      <td>-0.537913</td>\n",
       "      <td>1.030792</td>\n",
       "      <td>0.747242</td>\n",
       "      <td>0.041744</td>\n",
       "      <td>-0.174736</td>\n",
       "      <td>-1.239516</td>\n",
       "      <td>2.080850</td>\n",
       "      <td>-0.015019</td>\n",
       "      <td>4</td>\n",
       "    </tr>\n",
       "  </tbody>\n",
       "</table>\n",
       "</div>"
      ],
      "text/plain": [
       "  partition        13        38        53        63        64        88  \\\n",
       "0     train  0.875267  0.251989 -0.537913 -0.092812  0.446275  0.041744   \n",
       "1     train  0.599979  0.251989 -0.537913 -0.028612  0.619698  0.041744   \n",
       "2     train  1.976418 -0.804303 -0.537913 -0.734882  0.517947 -0.738388   \n",
       "3     train -0.501171  0.251989 -0.537913  0.442229  0.692588  0.041744   \n",
       "4     train -1.051746  0.251989 -0.537913  1.030792  0.747242  0.041744   \n",
       "\n",
       "        107       126       129       133  qd_id  \n",
       "0 -0.371683  0.986409 -0.182869 -0.015019      0  \n",
       "1  0.022067  0.398429 -0.678922 -0.015019      1  \n",
       "2 -0.335721  1.322397  0.206786 -0.015019      2  \n",
       "3 -0.174736 -0.693534  2.066825  0.000475      3  \n",
       "4 -0.174736 -1.239516  2.080850 -0.015019      4  "
      ]
     },
     "execution_count": 9,
     "metadata": {},
     "output_type": "execute_result"
    }
   ],
   "source": [
    "ltr_test_features.head()"
   ]
  },
  {
   "cell_type": "code",
   "execution_count": 10,
   "metadata": {},
   "outputs": [
    {
     "name": "stdout",
     "output_type": "stream",
     "text": [
      "Saving estimation results to ../build/simulation/Fold3/sim_exp_swap_xlearner_propensity_test_results_5_159.csv\n",
      "Saving estimation results to ../build/simulation/Fold3/sim_exp_swap_xlearner_ltr_test_results_5_159.csv\n",
      "Saving estimation results to ../build/simulation/Fold3/sim_exp_swap_xlearner_propensity_test_results_5_1599.csv\n",
      "Saving estimation results to ../build/simulation/Fold3/sim_exp_swap_xlearner_ltr_test_results_5_1599.csv\n",
      "Saving estimation results to ../build/simulation/Fold3/sim_exp_swap_xlearner_propensity_test_results_5_7996.csv\n",
      "Saving estimation results to ../build/simulation/Fold3/sim_exp_swap_xlearner_ltr_test_results_5_7996.csv\n",
      "Saving estimation results to ../build/simulation/Fold3/sim_exp_swap_xlearner_propensity_test_results_5_15992.csv\n",
      "Saving estimation results to ../build/simulation/Fold3/sim_exp_swap_xlearner_ltr_test_results_5_15992.csv\n",
      "Saving estimation results to ../build/simulation/Fold3/sim_exp_swap_xlearner_propensity_test_results_10_159.csv\n",
      "Saving estimation results to ../build/simulation/Fold3/sim_exp_swap_xlearner_ltr_test_results_10_159.csv\n",
      "Saving estimation results to ../build/simulation/Fold3/sim_exp_swap_xlearner_propensity_test_results_10_1599.csv\n",
      "Saving estimation results to ../build/simulation/Fold3/sim_exp_swap_xlearner_ltr_test_results_10_1599.csv\n",
      "Saving estimation results to ../build/simulation/Fold3/sim_exp_swap_xlearner_propensity_test_results_10_7996.csv\n",
      "Saving estimation results to ../build/simulation/Fold3/sim_exp_swap_xlearner_ltr_test_results_10_7996.csv\n",
      "Saving estimation results to ../build/simulation/Fold3/sim_exp_swap_xlearner_propensity_test_results_10_15992.csv\n",
      "Saving estimation results to ../build/simulation/Fold3/sim_exp_swap_xlearner_ltr_test_results_10_15992.csv\n",
      "Saving estimation results to ../build/simulation/Fold3/sim_exp_swap_xlearner_propensity_test_results_25_159.csv\n",
      "Saving estimation results to ../build/simulation/Fold3/sim_exp_swap_xlearner_ltr_test_results_25_159.csv\n",
      "Saving estimation results to ../build/simulation/Fold3/sim_exp_swap_xlearner_propensity_test_results_25_1599.csv\n",
      "Saving estimation results to ../build/simulation/Fold3/sim_exp_swap_xlearner_ltr_test_results_25_1599.csv\n",
      "Saving estimation results to ../build/simulation/Fold3/sim_exp_swap_xlearner_propensity_test_results_25_7996.csv\n",
      "Saving estimation results to ../build/simulation/Fold3/sim_exp_swap_xlearner_ltr_test_results_25_7996.csv\n",
      "Saving estimation results to ../build/simulation/Fold3/sim_exp_swap_xlearner_propensity_test_results_25_15992.csv\n",
      "Saving estimation results to ../build/simulation/Fold3/sim_exp_swap_xlearner_ltr_test_results_25_15992.csv\n",
      "Saving estimation results to ../build/simulation/Fold3/sim_exp_swap_xlearner_propensity_test_results_50_159.csv\n",
      "Saving estimation results to ../build/simulation/Fold3/sim_exp_swap_xlearner_ltr_test_results_50_159.csv\n",
      "Saving estimation results to ../build/simulation/Fold3/sim_exp_swap_xlearner_propensity_test_results_50_1599.csv\n",
      "Saving estimation results to ../build/simulation/Fold3/sim_exp_swap_xlearner_ltr_test_results_50_1599.csv\n",
      "Saving estimation results to ../build/simulation/Fold3/sim_exp_swap_xlearner_propensity_test_results_50_7996.csv\n",
      "Saving estimation results to ../build/simulation/Fold3/sim_exp_swap_xlearner_ltr_test_results_50_7996.csv\n",
      "Saving estimation results to ../build/simulation/Fold3/sim_exp_swap_xlearner_propensity_test_results_50_15992.csv\n",
      "Saving estimation results to ../build/simulation/Fold3/sim_exp_swap_xlearner_ltr_test_results_50_15992.csv\n"
     ]
    }
   ],
   "source": [
    "for avg_click in [5, 10, 25, 50]:\n",
    "    for nq in [nqids // i for i in [100, 10, 2, 1]]:\n",
    "        data = pd.read_csv(f'../build/simulation/{fold}/sim_exp_swap_causal_forests_train_clicks_{avg_click}_{nq}.csv')\n",
    "        propensity_test_results = []\n",
    "        ltr_test_results = []\n",
    "        for i in range(2, 11):\n",
    "            train_pairs = data[data['treatment_group'] == i].copy()\n",
    "            # X learner\n",
    "            learner_x = BaseXRegressor(learner=XGBRegressor())\n",
    "            learner_x.fit(train_pairs[examination_fc].values, train_pairs['treatment'].values, train_pairs['click'].values, 0.5 * np.ones_like(train_pairs['click'].values))\n",
    "            # predict tau on the test data for estimation evaluation\n",
    "            propensity_test_tau_pred = learner_x.predict(propensity_test_features[examination_fc].values, p=0.5 * np.ones(propensity_test_features[examination_fc].values.shape[0]))\n",
    "            propensity_test_result = propensity_test_features.copy()\n",
    "            propensity_test_result['tau_pred'] = propensity_test_tau_pred.flatten()\n",
    "            propensity_test_result['treatment_rank'] = i - 1\n",
    "            propensity_test_results.append(propensity_test_result)\n",
    "            \n",
    "            # predict tau on the ltr training data\n",
    "            ltr_test_tau_pred = learner_x.predict(ltr_test_features[examination_fc].values, p=0.5 * np.ones(ltr_test_features[examination_fc].values.shape[0]))\n",
    "            ltr_test_result = ltr_test_features.copy()\n",
    "            ltr_test_result['tau_pred'] = ltr_test_tau_pred.flatten()\n",
    "            ltr_test_result['treatment_rank'] = i - 1\n",
    "            ltr_test_results.append(ltr_test_result)\n",
    "        propensity_test_results = pd.concat(propensity_test_results, ignore_index=True)\n",
    "        saveto = f'../build/simulation/{fold}/sim_exp_swap_xlearner_propensity_test_results_{avg_click}_{nq}.csv'\n",
    "        print('Saving estimation results to', saveto)\n",
    "        propensity_test_results.to_csv(saveto, index=False)\n",
    "        \n",
    "        ltr_test_results = pd.concat(ltr_test_results, ignore_index=True)\n",
    "        saveto = f'../build/simulation/{fold}/sim_exp_swap_xlearner_ltr_test_results_{avg_click}_{nq}.csv'\n",
    "        print('Saving estimation results to', saveto)\n",
    "        ltr_test_results.to_csv(saveto, index=False)"
   ]
  },
  {
   "cell_type": "code",
   "execution_count": null,
   "metadata": {},
   "outputs": [],
   "source": []
  },
  {
   "cell_type": "code",
   "execution_count": null,
   "metadata": {},
   "outputs": [],
   "source": []
  }
 ],
 "metadata": {
  "kernelspec": {
   "display_name": "Python 3",
   "language": "python",
   "name": "python3"
  },
  "language_info": {
   "codemirror_mode": {
    "name": "ipython",
    "version": 3
   },
   "file_extension": ".py",
   "mimetype": "text/x-python",
   "name": "python",
   "nbconvert_exporter": "python",
   "pygments_lexer": "ipython3",
   "version": "3.7.4"
  }
 },
 "nbformat": 4,
 "nbformat_minor": 4
}
